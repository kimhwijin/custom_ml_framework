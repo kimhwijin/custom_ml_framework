{
 "cells": [
  {
   "cell_type": "code",
   "execution_count": 1,
   "metadata": {},
   "outputs": [],
   "source": [
    "%run steel.ipynb"
   ]
  },
  {
   "cell_type": "code",
   "execution_count": 2,
   "metadata": {},
   "outputs": [
    {
     "name": "stdout",
     "output_type": "stream",
     "text": [
      "Epoch 1: loss=16.118, accuracy=0.300/0.442\n",
      "Epoch 2: loss=15.123, accuracy=0.343/0.325\n",
      "Epoch 3: loss=15.405, accuracy=0.331/0.366\n",
      "Epoch 4: loss=15.539, accuracy=0.325/0.189\n",
      "Epoch 5: loss=15.019, accuracy=0.348/0.350\n",
      "Epoch 6: loss=15.598, accuracy=0.323/0.348\n",
      "Epoch 7: loss=15.643, accuracy=0.321/0.363\n",
      "Epoch 8: loss=15.583, accuracy=0.323/0.394\n",
      "Epoch 9: loss=15.509, accuracy=0.326/0.194\n",
      "Epoch 10: loss=15.256, accuracy=0.337/0.217\n",
      "\n",
      "Final Test: final accuracy = 0.217\n"
     ]
    }
   ],
   "source": [
    "steel_exce()"
   ]
  },
  {
   "cell_type": "code",
   "execution_count": 3,
   "metadata": {},
   "outputs": [
    {
     "name": "stdout",
     "output_type": "stream",
     "text": [
      "Epoch 1: loss=16.103, accuracy=0.301/0.376\n",
      "Epoch 2: loss=16.178, accuracy=0.297/0.358\n",
      "Epoch 3: loss=15.717, accuracy=0.317/0.391\n",
      "Epoch 4: loss=15.271, accuracy=0.337/0.402\n",
      "Epoch 5: loss=15.420, accuracy=0.330/0.414\n",
      "Epoch 6: loss=15.598, accuracy=0.323/0.368\n",
      "Epoch 7: loss=15.524, accuracy=0.326/0.402\n",
      "Epoch 8: loss=15.331, accuracy=0.334/0.368\n",
      "Epoch 9: loss=15.034, accuracy=0.347/0.187\n",
      "Epoch 10: loss=15.791, accuracy=0.314/0.182\n",
      "\n",
      "Final Test: final accuracy = 0.182\n"
     ]
    }
   ],
   "source": [
    "LEARNING_RATE = 0.0001\n",
    "steel_exce()"
   ]
  },
  {
   "cell_type": "code",
   "execution_count": null,
   "metadata": {},
   "outputs": [],
   "source": []
  }
 ],
 "metadata": {
  "interpreter": {
   "hash": "e2cd6330df87933e268d4b1d5797575da50d54717d7327a2d2e545dc9a1c6c69"
  },
  "kernelspec": {
   "display_name": "Python 3.8.12 ('tf25')",
   "language": "python",
   "name": "python3"
  },
  "language_info": {
   "codemirror_mode": {
    "name": "ipython",
    "version": 3
   },
   "file_extension": ".py",
   "mimetype": "text/x-python",
   "name": "python",
   "nbconvert_exporter": "python",
   "pygments_lexer": "ipython3",
   "version": "3.8.12"
  },
  "orig_nbformat": 4
 },
 "nbformat": 4,
 "nbformat_minor": 2
}
