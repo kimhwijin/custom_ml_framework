{
 "cells": [
  {
   "cell_type": "code",
   "execution_count": 1,
   "metadata": {},
   "outputs": [],
   "source": [
    "%run abalone.ipynb"
   ]
  },
  {
   "cell_type": "code",
   "execution_count": 3,
   "metadata": {},
   "outputs": [
    {
     "name": "stdout",
     "output_type": "stream",
     "text": [
      "Epoch 1: loss=33.906, accuracy=0.555/0.820\n",
      "Epoch 2: loss=8.347, accuracy=0.817/0.821\n",
      "Epoch 3: loss=7.717, accuracy=0.810/0.816\n",
      "Epoch 4: loss=7.601, accuracy=0.809/0.813\n",
      "Epoch 5: loss=7.522, accuracy=0.807/0.813\n",
      "Epoch 6: loss=7.451, accuracy=0.808/0.813\n",
      "Epoch 7: loss=7.391, accuracy=0.807/0.815\n",
      "Epoch 8: loss=7.338, accuracy=0.808/0.815\n",
      "Epoch 9: loss=7.292, accuracy=0.807/0.815\n",
      "Epoch 10: loss=7.250, accuracy=0.807/0.816\n",
      "\n",
      "Final Test: final accuracy = 0.816\n"
     ]
    }
   ],
   "source": [
    "abalone_exec()"
   ]
  },
  {
   "cell_type": "code",
   "execution_count": 9,
   "metadata": {},
   "outputs": [
    {
     "name": "stdout",
     "output_type": "stream",
     "text": [
      "[[1.00402586]\n",
      " [1.52047405]\n",
      " [1.65687716]\n",
      " [2.04252352]\n",
      " [1.61574937]\n",
      " [0.59932485]\n",
      " [2.37206972]\n",
      " [0.51441613]\n",
      " [0.4660426 ]\n",
      " [1.03237444]]\n",
      "[[4.17835866]]\n"
     ]
    }
   ],
   "source": [
    "print(weights, bias.reshape(1, -1), sep='\\n')"
   ]
  },
  {
   "cell_type": "code",
   "execution_count": 10,
   "metadata": {},
   "outputs": [
    {
     "name": "stdout",
     "output_type": "stream",
     "text": [
      "Epoch 1: loss=7.281, accuracy=0.803/0.821\n",
      "Epoch 2: loss=6.176, accuracy=0.815/0.840\n",
      "Epoch 3: loss=5.758, accuracy=0.822/0.855\n",
      "Epoch 4: loss=5.568, accuracy=0.826/0.850\n",
      "Epoch 5: loss=5.392, accuracy=0.828/0.854\n",
      "Epoch 6: loss=5.247, accuracy=0.832/0.841\n",
      "Epoch 7: loss=5.225, accuracy=0.831/0.845\n",
      "Epoch 8: loss=5.208, accuracy=0.831/0.838\n",
      "Epoch 9: loss=5.125, accuracy=0.832/0.848\n",
      "Epoch 10: loss=5.165, accuracy=0.831/0.840\n",
      "\n",
      "Final Test: final accuracy = 0.840\n"
     ]
    }
   ],
   "source": [
    "LEARNING_RATE = 0.1\n",
    "abalone_exec()"
   ]
  },
  {
   "cell_type": "code",
   "execution_count": null,
   "metadata": {},
   "outputs": [],
   "source": []
  }
 ],
 "metadata": {
  "interpreter": {
   "hash": "e2cd6330df87933e268d4b1d5797575da50d54717d7327a2d2e545dc9a1c6c69"
  },
  "kernelspec": {
   "display_name": "Python 3.8.12 ('tf25')",
   "language": "python",
   "name": "python3"
  },
  "language_info": {
   "codemirror_mode": {
    "name": "ipython",
    "version": 3
   },
   "file_extension": ".py",
   "mimetype": "text/x-python",
   "name": "python",
   "nbconvert_exporter": "python",
   "pygments_lexer": "ipython3",
   "version": "3.8.12"
  },
  "orig_nbformat": 4
 },
 "nbformat": 4,
 "nbformat_minor": 2
}
