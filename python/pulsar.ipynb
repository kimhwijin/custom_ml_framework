{
 "cells": [
  {
   "cell_type": "code",
   "execution_count": 3,
   "metadata": {},
   "outputs": [],
   "source": [
    "import numpy as np\n",
    "import csv"
   ]
  },
  {
   "cell_type": "code",
   "execution_count": 21,
   "metadata": {},
   "outputs": [],
   "source": [
    "RND_MEAN = 0.0\n",
    "RND_STD = 1.0\n",
    "LEARNING_RATE = 0.001"
   ]
  },
  {
   "cell_type": "code",
   "execution_count": 9,
   "metadata": {},
   "outputs": [
    {
     "name": "stdout",
     "output_type": "stream",
     "text": [
      "0.7310585786300049\n",
      "0.0\n"
     ]
    },
    {
     "name": "stderr",
     "output_type": "stream",
     "text": [
      "/var/folders/ty/sj9j6sl158j5bv97y8pxd76c0000gn/T/ipykernel_29210/2617290605.py:2: RuntimeWarning: overflow encountered in exp\n",
      "  return 1.0 / (1.0 + np.exp(-x))\n"
     ]
    }
   ],
   "source": [
    "# def overflowed_sigmoid(x):\n",
    "#     return 1.0 / (1.0 + np.exp(-x))\n",
    "\n",
    "# print(overflowed_sigmoid(1.0))\n",
    "# print(overflowed_sigmoid(-1000.0))"
   ]
  },
  {
   "cell_type": "code",
   "execution_count": 13,
   "metadata": {},
   "outputs": [],
   "source": [
    "def sigmoid(x):\n",
    "    return np.exp(-relu(-x)) / (1.0 + np.exp(-np.abs(x)))\n",
    "\n",
    "def relu(x):\n",
    "    return np.maximum(x, 0)\n",
    "\n",
    "def sigmoid_derv(x, y):\n",
    "    #y = sigmoid(x)\n",
    "    #dy/dx = sigmod(x) (1 - sigmoid(x))\n",
    "    return y * (1 - y)"
   ]
  },
  {
   "cell_type": "code",
   "execution_count": 22,
   "metadata": {},
   "outputs": [],
   "source": [
    "def sigmoid_cross_entropy_with_logits(z, x):\n",
    "    # H = x - zx + log(1 + exp(-x))\n",
    "    # H = max(x, 0) - zx + log(1 + exp(-abs(x)))\n",
    "    return relu(x) - z * x + np.log(1 + np.exp(-np.abs(x)))\n",
    "\n",
    "def sigmoid_cross_entropy_with_logits_derv(z, x):\n",
    "    # H = x - zx + log( 1 + exp(-x) )\n",
    "    # dH / dx = 1 - z + (-exp(-x) / 1 + exp(-x))\n",
    "    # dH / dx = 1 - z - 1 + ( 1 / 1 + exp(-x))\n",
    "    # dH / dx = -z + sigmoid(x)\n",
    "    return -z + sigmoid(x)"
   ]
  },
  {
   "cell_type": "code",
   "execution_count": 25,
   "metadata": {},
   "outputs": [],
   "source": [
    "def eval_accuracy(output, y):\n",
    "    est_yes = np.greater(output, 0) # 추정 값들 중 참인거\n",
    "    ans_yes = np.greater(y, 0.5) # 실제 값들 중 참인거\n",
    "\n",
    "    est_no = np.logical_not(est_yes) # 추정 값들 중 거짓\n",
    "    ans_no = np.logical_not(ans_yes) # 실제 값들 중 거짓\n",
    "\n",
    "    tp = np.sum(np.logical_and(est_yes, ans_yes)) # 답은 o 인데 추정은 o\n",
    "    fp = np.sum(np.logical_and(est_yes, ans_no)) # 답은 x 인데 추정은 o 인거\n",
    "    fn = np.sum(np.logical_and(est_no, ans_no)) # 답은 x  인데 추정은 x\n",
    "    tn = np.sum(np.logical_and(est_no, ans_yes)) # 담은 o 인데 추정은 x\n",
    "    \n",
    "    accuracy = safe_div(tp+tn, tp+tn+fp+fn)\n",
    "    precistion = safe_div(tp, tp+fp)\n",
    "    recall = safe_div(tp, tp+tn)\n",
    "    f1 = 2 * safe_div(recall*precistion, recall+precistion)\n",
    "    \n",
    "    return [accuracy, precistion, recall, f1]\n",
    "\n",
    "def safe_div(p, q):\n",
    "    p, q = float(p), float(q)\n",
    "    if np.abs(q) < 1e-20: return np.sign(p)\n",
    "    return p / q"
   ]
  },
  {
   "cell_type": "code",
   "execution_count": 29,
   "metadata": {},
   "outputs": [],
   "source": [
    "def forward_neuralnet(x):\n",
    "    global weight, bias\n",
    "    output = np.matmul(x, weight) + bias\n",
    "    return output, x\n",
    "\n",
    "def forward_postproc(output, y):\n",
    "    entropy = sigmoid_cross_entropy_with_logits(y, output)\n",
    "    loss = np.mean(entropy)\n",
    "    return loss, [y, output, entropy]\n",
    "\n",
    "def backprop_neuralnet(G_upstream, x):\n",
    "    global weight, bias\n",
    "    g_output_w = x.transpose()\n",
    "\n",
    "    G_w = np.matmul(g_output_w, G_upstream)\n",
    "    G_b = np.sum(G_upstream, axis=0)\n",
    "\n",
    "    weight -= LEARNING_RATE * G_w\n",
    "    bias -= LEARNING_RATE * G_b\n",
    "\n",
    "def backprop_postproc(G_loss, aux):\n",
    "    y, output, entropy = aux\n",
    "\n",
    "    g_loss_entropy = 1.0 / np.prod(entropy.shape)\n",
    "    g_entropy_output = sigmoid_cross_entropy_with_logits_derv(y, output)\n",
    "    G_entropy = g_loss_entropy * G_loss\n",
    "    G_output = g_entropy_output * G_entropy\n",
    "    return G_output\n"
   ]
  },
  {
   "cell_type": "code",
   "execution_count": 30,
   "metadata": {},
   "outputs": [],
   "source": [
    "def run_train(x, y):\n",
    "\n",
    "    #wx + b 계산\n",
    "    output, aux_nn = forward_neuralnet(x)\n",
    "    #(wx + b - y) ^ 2 계산\n",
    "    loss, aux_pp = forward_postproc(output, y)\n",
    "    # wx + b 와 y 간의\n",
    "    accuracy = eval_accuracy(output, y)\n",
    "    \n",
    "    #dL/dL\n",
    "    dL_dL = 1.0\n",
    "    G_output = backprop_postproc(dL_dL, aux_pp)\n",
    "    backprop_neuralnet(G_output, aux_nn)\n",
    "    \n",
    "    return loss, accuracy\n",
    "\n",
    "def run_test(x, y):\n",
    "    output, _ = forward_neuralnet(x)\n",
    "    accuracy = eval_accuracy(output, y)\n",
    "    return accuracy"
   ]
  },
  {
   "cell_type": "code",
   "execution_count": 1,
   "metadata": {},
   "outputs": [],
   "source": [
    "def arrange_data(mb_size):\n",
    "    global data, shuffle_map, test_begin_idx\n",
    "    shuffle_map = np.arange(data.shape[0])\n",
    "    np.random.shuffle(shuffle_map)\n",
    "    step_count = int(data.shape[0] * 0.8) // mb_size\n",
    "    test_begin_idx = step_count * mb_size\n",
    "    return step_count\n",
    "\n",
    "def get_test_data():\n",
    "    global data, shuffle_map, test_begin_idx, output_dim\n",
    "    test_data = data[shuffle_map[test_begin_idx:]]\n",
    "    return test_data[:, :-output_dim], test_data[:, -output_dim:]\n",
    "\n",
    "def get_train_data(mb_size, nth):\n",
    "    global data, shuffle_map, test_begin_idx, output_dim\n",
    "    if nth == 0:\n",
    "        np.random.shuffle(shuffle_map[:test_begin_idx])\n",
    "    train_data = data[shuffle_map[mb_size*nth:mb_size*(nth+1)]]\n",
    "    return train_data[:, :-output_dim], train_data[:, -output_dim:]"
   ]
  },
  {
   "cell_type": "code",
   "execution_count": 32,
   "metadata": {},
   "outputs": [],
   "source": [
    "def train_and_test(epochs, batch_size, report):\n",
    "    step_count = arrange_data(batch_size)\n",
    "    test_x, test_y = get_test_data()\n",
    "    \n",
    "    for epoch in range(epochs):\n",
    "        losses, accs = [], []\n",
    "        \n",
    "        for n in range(step_count):\n",
    "            train_x, train_y = get_train_data(batch_size, n)\n",
    "            loss, acc = run_train(train_x, train_y)\n",
    "            losses.append(loss)\n",
    "            accs.append(acc)\n",
    "            \n",
    "        if report > 0 and (epoch+1) % report == 0:\n",
    "            acc = run_test(test_x, test_y)\n",
    "            acc_str = ','.join(['%5.3f']*4) % tuple(acc)\n",
    "            print('Epoch {}: loss={:5.3f}, accuracy={}'. \\\n",
    "                  format(epoch+1, np.mean(losses), acc_str))\n",
    "            \n",
    "    final_acc = run_test(test_x, test_y)\n",
    "    acc_str = ','.join(['%5.3f']*4) % tuple(final_acc)\n",
    "    print('\\nFinal Test: final accuracy = {}'.format(acc_str))"
   ]
  },
  {
   "cell_type": "code",
   "execution_count": 33,
   "metadata": {},
   "outputs": [],
   "source": [
    "def init_model():\n",
    "    global weight, bias, input_dim, output_dim\n",
    "    weight = np.random.normal(RND_MEAN, RND_STD, [input_dim, output_dim])\n",
    "    bias = np.zeros(output_dim)"
   ]
  },
  {
   "cell_type": "code",
   "execution_count": 2,
   "metadata": {},
   "outputs": [],
   "source": [
    "def load_pulsar_dataset(adjust_ratio):\n",
    "    pulsars, stars = [], []\n",
    "\n",
    "    global data, test_data, input_dim, output_dim\n",
    "    #rows = []\n",
    "    with open(\"dataset/pulsar_data_train.csv\", 'r') as csvfile:\n",
    "        csvreader = csv.reader(csvfile)\n",
    "        next(csvreader, None)\n",
    "        for row in csvreader:\n",
    "            for i in range(len(row)):\n",
    "                if row[i] == '':\n",
    "                    row[i] = 0.0\n",
    "                \n",
    "            if row[8] == '1': pulsars.append(row)\n",
    "            else: stars.append(row)\n",
    "            #rows.append(row)\n",
    "    \n",
    "    input_dim, output_dim = 8, 1\n",
    "\n",
    "    star_cnt, pulsar_cnt = len(stars), len(pulsars)\n",
    "\n",
    "    if adjust_ratio:\n",
    "        data = np.zeros([2*star_cnt, 9])\n",
    "        data[0:star_cnt, :] = np.asarray(stars, dtype='float32')\n",
    "        for n in range(star_cnt):\n",
    "            data[star_cnt+n] = np.asarray(pulsars[n % pulsar_cnt], dtype=np.float32)\n",
    "    else:\n",
    "        data = np.zeros([star_cnt+pulsar_cnt, 9])\n",
    "        data[0:star_cnt, :] = np.asarray(stars, dtype=np.float32)\n",
    "        data[star_cnt:, :] = np.asarray(pulsars, dtype=np.float32)\n",
    "\n",
    "\n",
    "\n",
    "    rows = []\n",
    "    with open(\"dataset/pulsar_data_test.csv\", 'r') as csvfile:\n",
    "        csvreader = csv.reader(csvfile)\n",
    "        next(csvfile, None)\n",
    "        for row in csvreader:\n",
    "            for i in range(len(row)):\n",
    "                if row[i] == '':\n",
    "                    row[i] = 0.0\n",
    "\n",
    "\n",
    "            rows.append(row)\n",
    "\n",
    "    test_data = np.asarray(rows, dtype=np.float32)\n"
   ]
  },
  {
   "cell_type": "code",
   "execution_count": 4,
   "metadata": {},
   "outputs": [],
   "source": [
    "def pulsar_exec(epochs=10, batch_size=10, report=1, adjust_ratio=False):\n",
    "    load_pulsar_dataset(adjust_ratio)\n",
    "    init_model()\n",
    "    train_and_test(epochs, batch_size, report)"
   ]
  },
  {
   "cell_type": "code",
   "execution_count": null,
   "metadata": {},
   "outputs": [],
   "source": []
  }
 ],
 "metadata": {
  "interpreter": {
   "hash": "e2cd6330df87933e268d4b1d5797575da50d54717d7327a2d2e545dc9a1c6c69"
  },
  "kernelspec": {
   "display_name": "Python 3.8.12 ('tf25')",
   "language": "python",
   "name": "python3"
  },
  "language_info": {
   "codemirror_mode": {
    "name": "ipython",
    "version": 3
   },
   "file_extension": ".py",
   "mimetype": "text/x-python",
   "name": "python",
   "nbconvert_exporter": "python",
   "pygments_lexer": "ipython3",
   "version": "3.8.12"
  },
  "orig_nbformat": 4
 },
 "nbformat": 4,
 "nbformat_minor": 2
}
