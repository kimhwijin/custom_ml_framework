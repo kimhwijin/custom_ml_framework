{
 "cells": [
  {
   "cell_type": "code",
   "execution_count": 6,
   "metadata": {},
   "outputs": [
    {
     "data": {
      "text/plain": [
       "(array([0.26927337, 0.25661296, 0.67871162, 0.58258649, 0.39936335,\n",
       "        0.94747744, 0.69519889, 0.41496092, 0.94413029, 0.66710185]),\n",
       " array([0, 0, 0, 0, 0, 1, 0, 0, 1, 1]),\n",
       " array([0.31371572, 0.29653831, 1.13541588, 0.87367769, 0.50976494,\n",
       "        0.05395205, 1.18809547, 0.53607646, 0.057491  , 0.4048124 ]))"
      ]
     },
     "execution_count": 6,
     "metadata": {},
     "output_type": "execute_result"
    }
   ],
   "source": [
    "import numpy as np\n",
    "x = np.random.uniform(0, 3, size=(1,2))\n",
    "y = np.random.normal(size=(1, 2))\n",
    "\n",
    "z = np.log(x+1e-7) * y\n",
    "np.log(x+1e-7), y, z\n",
    "\n",
    "from python.loss.losses import *\n",
    "x = np.random.uniform(0, 1, (10,1))\n",
    "y = np.random.randint(0, 2, (10, 1))\n",
    "\n",
    "\n",
    "x.reshape(-1), y.reshape(-1), binary_crossentropy(y, x).reshape(-1)\n"
   ]
  },
  {
   "cell_type": "code",
   "execution_count": 17,
   "metadata": {},
   "outputs": [
    {
     "data": {
      "text/plain": [
       "True"
      ]
     },
     "execution_count": 17,
     "metadata": {},
     "output_type": "execute_result"
    }
   ],
   "source": [
    "import numpy as np\n",
    "np.float32.__name__\n",
    "a = np.random.normal(size=(10,10))\n",
    "a.dtype == np.float64"
   ]
  },
  {
   "cell_type": "code",
   "execution_count": 11,
   "metadata": {},
   "outputs": [
    {
     "data": {
      "text/plain": [
       "dtype('float32')"
      ]
     },
     "execution_count": 11,
     "metadata": {},
     "output_type": "execute_result"
    }
   ],
   "source": [
    "import numpy as np\n",
    "\n",
    "kernel = np.random.normal(size=(100, 150))\n",
    "kernel = kernel.astype(np.float32)\n",
    "kernel.dtype"
   ]
  },
  {
   "cell_type": "code",
   "execution_count": 1,
   "metadata": {},
   "outputs": [],
   "source": [
    "from python.layer.dense import Dense\n",
    "\n",
    "dense = Dense(100, 'relu')\n",
    "dense.build((5, 100))"
   ]
  },
  {
   "cell_type": "code",
   "execution_count": 5,
   "metadata": {},
   "outputs": [],
   "source": [
    "import numpy as np\n",
    "inputs = np.random.normal(size=(5, 100)).astype(np.float32)"
   ]
  },
  {
   "cell_type": "code",
   "execution_count": 6,
   "metadata": {},
   "outputs": [],
   "source": [
    "outputs = dense.forward(inputs)"
   ]
  },
  {
   "cell_type": "code",
   "execution_count": 10,
   "metadata": {},
   "outputs": [
    {
     "data": {
      "text/plain": [
       "((5, 100), dtype('float32'))"
      ]
     },
     "execution_count": 10,
     "metadata": {},
     "output_type": "execute_result"
    }
   ],
   "source": [
    "outputs.shape, outputs.dtype"
   ]
  },
  {
   "cell_type": "code",
   "execution_count": 5,
   "metadata": {},
   "outputs": [
    {
     "data": {
      "text/plain": [
       "(10, 100)"
      ]
     },
     "execution_count": 5,
     "metadata": {},
     "output_type": "execute_result"
    }
   ],
   "source": [
    "# x : 10\n",
    "# w : 10, 100\n",
    "# b : 100\n",
    "# y : 1, 100\n",
    "#dL/dy = 1, 100\n",
    "import numpy as np\n",
    "x = np.random.normal(size=(1, 10))\n",
    "w = np.random.normal(size=(10, 100))\n",
    "b = np.random.normal(size=(1, 100))\n",
    "y = np.matmul(x, w) + b\n",
    "\n",
    "dL_dy = np.random.normal(size=(1, 100))\n",
    "dL_dw = np.matmul(x.T, dL_dy).shape\n"
   ]
  },
  {
   "cell_type": "code",
   "execution_count": 3,
   "metadata": {},
   "outputs": [
    {
     "data": {
      "text/plain": [
       "(1, 100)"
      ]
     },
     "execution_count": 3,
     "metadata": {},
     "output_type": "execute_result"
    }
   ],
   "source": [
    "y.shape"
   ]
  },
  {
   "cell_type": "code",
   "execution_count": 11,
   "metadata": {},
   "outputs": [
    {
     "data": {
      "text/plain": [
       "(array([[0.4, 0.2, 0.2, 0.2]]), array([[1, 0, 0, 0]]), array([0.22907262]))"
      ]
     },
     "execution_count": 11,
     "metadata": {},
     "output_type": "execute_result"
    }
   ],
   "source": [
    "x = np.array([[0.4, 0.2,0.2, 0.2]])\n",
    "y = np.array([[1, 0,0,0]])\n",
    "x, y\n",
    "x, y, categorical_crossentropy(y, x)"
   ]
  },
  {
   "cell_type": "code",
   "execution_count": 8,
   "metadata": {},
   "outputs": [],
   "source": [
    "from python.dataset.dataset import Dataset\n",
    "\n",
    "a = Dataset('name', 'mode')"
   ]
  },
  {
   "cell_type": "code",
   "execution_count": 3,
   "metadata": {},
   "outputs": [
    {
     "data": {
      "text/plain": [
       "0.7933358852821445"
      ]
     },
     "execution_count": 3,
     "metadata": {},
     "output_type": "execute_result"
    }
   ],
   "source": [
    "np.cos(np.radians(37.5016428105))"
   ]
  },
  {
   "cell_type": "code",
   "execution_count": 9,
   "metadata": {},
   "outputs": [
    {
     "data": {
      "text/plain": [
       "(array([[1, 2, 3, 4, 5],\n",
       "        [6, 7, 8, 9, 0]]),\n",
       " array([[ 0, -1, -2, -3, -4],\n",
       "        [-5, -6, -7, -8,  1]]),\n",
       " array([[  0,  -2,  -6, -12, -20],\n",
       "        [-30, -42, -56, -72,   0]]))"
      ]
     },
     "execution_count": 9,
     "metadata": {},
     "output_type": "execute_result"
    }
   ],
   "source": [
    "import numpy as np\n",
    "a = np.random.normal(size=(10, 15))\n",
    "b = np.random.normal(size=(10, 15))\n",
    "a = np.array([[1, 2,3,4,5], [6,7,8,9,0]])\n",
    "a, (1-a), (1-a)*a"
   ]
  },
  {
   "cell_type": "code",
   "execution_count": 27,
   "metadata": {},
   "outputs": [
    {
     "data": {
      "image/png": "[encoded data removed]",
      "text/plain": [
       "<Figure size 432x288 with 1 Axes>"
      ]
     },
     "metadata": {
      "needs_background": "light"
     },
     "output_type": "display_data"
    }
   ],
   "source": [
    "from python.activation import activations\n",
    "import matplotlib.pyplot as plt\n",
    "x = np.arange(-5, 5, 0.01)\n",
    "y = activations.elu(x.reshape(1, -1))\n",
    "dydx = y['dydx'].reshape(-1)\n",
    "y = y['output'].reshape(-1)\n",
    "\n",
    "plt.plot(x, y)\n",
    "plt.plot(x, dydx)\n",
    "plt.grid()"
   ]
  },
  {
   "cell_type": "code",
   "execution_count": 2,
   "metadata": {},
   "outputs": [
    {
     "data": {
      "text/plain": [
       "<function python.activation.activations.relu(x)>"
      ]
     },
     "execution_count": 2,
     "metadata": {},
     "output_type": "execute_result"
    }
   ],
   "source": [
    "activations.get('relu')"
   ]
  },
  {
   "cell_type": "code",
   "execution_count": 37,
   "metadata": {},
   "outputs": [
    {
     "data": {
      "text/plain": [
       "((2, 15), (2, 1))"
      ]
     },
     "execution_count": 37,
     "metadata": {},
     "output_type": "execute_result"
    }
   ],
   "source": [
    "import numpy as np\n",
    "a = np.random.normal(size=(2, 15))\n",
    "m = np.max(a, axis=-1,keepdims=True)\n",
    "a.shape, m.shape"
   ]
  },
  {
   "cell_type": "code",
   "execution_count": 40,
   "metadata": {},
   "outputs": [],
   "source": [
    "m = m + np.arange(2).reshape((-1, 1))"
   ]
  },
  {
   "cell_type": "code",
   "execution_count": 41,
   "metadata": {},
   "outputs": [
    {
     "data": {
      "text/plain": [
       "((2, 15), (2, 1))"
      ]
     },
     "execution_count": 41,
     "metadata": {},
     "output_type": "execute_result"
    }
   ],
   "source": [
    "a.shape, m.shape"
   ]
  },
  {
   "cell_type": "code",
   "execution_count": 45,
   "metadata": {},
   "outputs": [
    {
     "data": {
      "text/plain": [
       "(array([ 0.68352835, -0.64763464, -2.39643835,  0.32157915,  1.9558096 ,\n",
       "        -0.30142302,  0.03578232, -2.09060247,  0.9779089 , -0.4097147 ,\n",
       "         1.57259587,  0.4691798 ,  0.17594425,  0.68349193, -0.89320661]),\n",
       " array([1.9558096]),\n",
       " array([-1.27228125, -2.60344424, -4.35224795, -1.63423045,  0.        ,\n",
       "        -2.25723262, -1.92002728, -4.04641207, -0.9779007 , -2.3655243 ,\n",
       "        -0.38321373, -1.4866298 , -1.77986535, -1.27231767, -2.84901621]))"
      ]
     },
     "execution_count": 45,
     "metadata": {},
     "output_type": "execute_result"
    }
   ],
   "source": [
    "a[0], m[0], (a - m)[0]"
   ]
  },
  {
   "cell_type": "code",
   "execution_count": 47,
   "metadata": {},
   "outputs": [
    {
     "data": {
      "text/plain": [
       "((2, 15), (2, 15), (2, 1))"
      ]
     },
     "execution_count": 47,
     "metadata": {},
     "output_type": "execute_result"
    }
   ],
   "source": [
    "diff = a - m\n",
    "exp = np.exp(diff)\n",
    "sum_exp = np.sum(exp, axis=-1, keepdims=True)\n",
    "diff.shape, exp.shape, sum_exp.shape"
   ]
  },
  {
   "cell_type": "code",
   "execution_count": 53,
   "metadata": {},
   "outputs": [
    {
     "data": {
      "text/plain": [
       "(array([0.28019171, 0.0740182 , 0.01287783, 0.19510245, 1.        ,\n",
       "        0.10463966, 0.14660296, 0.017485  , 0.37609982, 0.09390006,\n",
       "        0.68166719, 0.22613349, 0.16866086, 0.2801815 , 0.05790126]),\n",
       " array([3.71546198]),\n",
       " array([0.07541235, 0.01992167, 0.00346601, 0.05251095, 0.26914553,\n",
       "        0.0281633 , 0.03945753, 0.00470601, 0.10122559, 0.02527278,\n",
       "        0.18346768, 0.06086282, 0.04539432, 0.0754096 , 0.01558386]))"
      ]
     },
     "execution_count": 53,
     "metadata": {},
     "output_type": "execute_result"
    }
   ],
   "source": [
    "output = exp / sum_exp\n",
    "\n",
    "exp[0], sum_exp[0], output[0]"
   ]
  },
  {
   "cell_type": "code",
   "execution_count": null,
   "metadata": {},
   "outputs": [],
   "source": []
  }
 ],
 "metadata": {
  "interpreter": {
   "hash": "e2cd6330df87933e268d4b1d5797575da50d54717d7327a2d2e545dc9a1c6c69"
  },
  "kernelspec": {
   "display_name": "Python 3.8.12 ('tf25')",
   "language": "python",
   "name": "python3"
  },
  "language_info": {
   "codemirror_mode": {
    "name": "ipython",
    "version": 3
   },
   "file_extension": ".py",
   "mimetype": "text/x-python",
   "name": "python",
   "nbconvert_exporter": "python",
   "pygments_lexer": "ipython3",
   "version": "3.8.12"
  },
  "orig_nbformat": 4
 },
 "nbformat": 4,
 "nbformat_minor": 2
}
