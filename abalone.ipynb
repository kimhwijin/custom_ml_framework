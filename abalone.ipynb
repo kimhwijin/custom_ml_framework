{
 "cells": [
  {
   "cell_type": "code",
   "execution_count": 1,
   "metadata": {},
   "outputs": [],
   "source": [
    "import numpy as np\n",
    "import csv\n",
    "import time\n",
    "\n",
    "np.random.seed(42)\n",
    "def randomize(): np.random.seed(time.time())"
   ]
  },
  {
   "cell_type": "code",
   "execution_count": 2,
   "metadata": {},
   "outputs": [],
   "source": [
    "RND_MEAN = 0.0\n",
    "RND_STD = 0.003\n",
    "LEARNING_RATE = 0.001"
   ]
  },
  {
   "cell_type": "code",
   "execution_count": 4,
   "metadata": {},
   "outputs": [],
   "source": [
    "def train_test_split(data, test_size=0.2):\n",
    "    n = data.shape[0]\n",
    "    index = np.random.shuffle(np.arange(n))\n",
    "\n",
    "    train_size = int(n * (1- test_size) - 1) + 1\n",
    "\n",
    "    train_index = index[:train_size]\n",
    "    test_index = index[train_size:]\n",
    "    \n",
    "    return data[train_index, :], data[test_index, :]\n",
    "\n",
    "def train(x=None, y=None, batch_size=None, epochs=1, validation_data=None):\n",
    "    \n",
    "    \n",
    "\n",
    "    for epoch in range(epochs):\n",
    "        iter_x, iter_y = get_iter_data(x, y, batch_size)\n",
    "\n",
    "\n",
    "\n",
    "    return None\n",
    "\n",
    "def test():\n",
    "    return None"
   ]
  },
  {
   "cell_type": "code",
   "execution_count": 14,
   "metadata": {},
   "outputs": [],
   "source": [
    "def abalone_execute(epochs=10, batch_size=10, report_period=1):\n",
    "    load_abalone_dataset()\n",
    "    train()\n",
    "    test()\n",
    "    return None"
   ]
  },
  {
   "cell_type": "code",
   "execution_count": null,
   "metadata": {},
   "outputs": [],
   "source": [
    "def load_abalone_dataset():\n",
    "    with open('dataset/abalone.data.csv', 'r') as csvfile:\n",
    "        csvreader = csv.reader(csvfile)\n",
    "        next(csvreader, None)\n",
    "        rows = []\n",
    "        for row in csvreader:\n",
    "            rows.append(row)\n",
    "        \n",
    "        global data, input_dim, output_dim\n",
    "        input_dim, output_dim = 10, 1\n",
    "        data = np.zeros([len(rows), input_dim+output_dim])\n",
    "\n",
    "        for n, row in enumerate(rows):\n",
    "            if row[0] == 'I': data[n, 0] = 1\n",
    "            elif row[0] == 'M': data[n, 1] = 1\n",
    "            elif row[0] == 'F': data[n, 2] = 1\n",
    "            data[n, 3:] = row[1:]"
   ]
  },
  {
   "cell_type": "code",
   "execution_count": null,
   "metadata": {},
   "outputs": [],
   "source": [
    "def init_model():\n",
    "    global weights, bias\n",
    "    weights = np.random.normal(RND_MEAN, RND_STD, [input_dim, output_dim])\n",
    "    bias = np.zeros([output_dim])\n"
   ]
  }
 ],
 "metadata": {
  "interpreter": {
   "hash": "e2cd6330df87933e268d4b1d5797575da50d54717d7327a2d2e545dc9a1c6c69"
  },
  "kernelspec": {
   "display_name": "Python 3.8.12 ('tf25')",
   "language": "python",
   "name": "python3"
  },
  "language_info": {
   "codemirror_mode": {
    "name": "ipython",
    "version": 3
   },
   "file_extension": ".py",
   "mimetype": "text/x-python",
   "name": "python",
   "nbconvert_exporter": "python",
   "pygments_lexer": "ipython3",
   "version": "3.8.12"
  },
  "orig_nbformat": 4
 },
 "nbformat": 4,
 "nbformat_minor": 2
}
